{
 "cells": [
  {
   "cell_type": "code",
   "execution_count": 21,
   "metadata": {},
   "outputs": [],
   "source": [
    "from binance.client import Client\n",
    "from datetime import datetime, timezone\n",
    "import matplotlib.pyplot as plt\n",
    "import pandas as pd"
   ]
  },
  {
   "cell_type": "code",
   "execution_count": 22,
   "metadata": {},
   "outputs": [],
   "source": [
    "INPUT_FILE= \"API_KEYS.txt\"\n",
    "\n",
    "with open(INPUT_FILE, 'r', encoding='utf-8') as file:\n",
    "    contenu_liste = file.read()\n",
    "\n",
    "KEYS = contenu_liste.split(',')\n",
    "KEYS = [element.strip() for element in KEYS]\n",
    "\n",
    "api_key = KEYS[0]\n",
    "api_secret = KEYS[1]\n",
    "client = Client(api_key,api_secret)"
   ]
  },
  {
   "cell_type": "code",
   "execution_count": 30,
   "metadata": {},
   "outputs": [
    {
     "name": "stdout",
     "output_type": "stream",
     "text": [
      "Binance account : SCL\n",
      "Date : 2024-12-21 03:16:12\n",
      "Maker Rate : 0.00100000\n",
      "Taker Rate : 0.00100000\n"
     ]
    }
   ],
   "source": [
    "info = client.get_account()\n",
    "# Commission Rates\n",
    "maker_rate = info['commissionRates']['maker']\n",
    "taker_rate = info['commissionRates']['taker']\n",
    "\n",
    "# Convert to seconds (Python's datetime uses seconds)\n",
    "date_sec = info['updateTime'] / 1000 \n",
    "# Format the timestamp into a readable date\n",
    "formatted_date = datetime.fromtimestamp(date_sec, tz=timezone.utc).strftime('%Y-%m-%d %H:%M:%S')\n",
    "\n",
    "print(f\"Binance account : SCL\")\n",
    "print(f\"Date : {formatted_date}\")\n",
    "\n",
    "print(f\"Maker Rate : {maker_rate}\")\n",
    "print(f\"Taker Rate : {taker_rate}\")"
   ]
  },
  {
   "cell_type": "code",
   "execution_count": 84,
   "metadata": {},
   "outputs": [
    {
     "data": {
      "text/html": [
       "<div>\n",
       "<style scoped>\n",
       "    .dataframe tbody tr th:only-of-type {\n",
       "        vertical-align: middle;\n",
       "    }\n",
       "\n",
       "    .dataframe tbody tr th {\n",
       "        vertical-align: top;\n",
       "    }\n",
       "\n",
       "    .dataframe thead th {\n",
       "        text-align: right;\n",
       "    }\n",
       "</style>\n",
       "<table border=\"1\" class=\"dataframe\">\n",
       "  <thead>\n",
       "    <tr style=\"text-align: right;\">\n",
       "      <th></th>\n",
       "      <th>asset</th>\n",
       "      <th>free</th>\n",
       "      <th>pair</th>\n",
       "      <th>reference</th>\n",
       "      <th>percentage_of_total</th>\n",
       "    </tr>\n",
       "  </thead>\n",
       "  <tbody>\n",
       "    <tr>\n",
       "      <th>0</th>\n",
       "      <td>BTC</td>\n",
       "      <td>0.00604</td>\n",
       "      <td>BTCUSDT</td>\n",
       "      <td>594.98446</td>\n",
       "      <td>51.0</td>\n",
       "    </tr>\n",
       "    <tr>\n",
       "      <th>239</th>\n",
       "      <td>SOL</td>\n",
       "      <td>1.99800</td>\n",
       "      <td>SOLUSDT</td>\n",
       "      <td>391.67681</td>\n",
       "      <td>33.6</td>\n",
       "    </tr>\n",
       "    <tr>\n",
       "      <th>11</th>\n",
       "      <td>USDT</td>\n",
       "      <td>176.26531</td>\n",
       "      <td>USDTUSDT</td>\n",
       "      <td>176.26531</td>\n",
       "      <td>15.1</td>\n",
       "    </tr>\n",
       "    <tr>\n",
       "      <th>4</th>\n",
       "      <td>BNB</td>\n",
       "      <td>0.00275</td>\n",
       "      <td>BNBUSDT</td>\n",
       "      <td>1.87069</td>\n",
       "      <td>0.2</td>\n",
       "    </tr>\n",
       "    <tr>\n",
       "      <th>158</th>\n",
       "      <td>USDC</td>\n",
       "      <td>0.98628</td>\n",
       "      <td>USDCUSDT</td>\n",
       "      <td>0.98660</td>\n",
       "      <td>0.1</td>\n",
       "    </tr>\n",
       "    <tr>\n",
       "      <th>2</th>\n",
       "      <td>ETH</td>\n",
       "      <td>0.00010</td>\n",
       "      <td>ETHUSDT</td>\n",
       "      <td>0.34511</td>\n",
       "      <td>0.0</td>\n",
       "    </tr>\n",
       "    <tr>\n",
       "      <th>545</th>\n",
       "      <td>PEPE</td>\n",
       "      <td>0.16000</td>\n",
       "      <td>PEPEUSDT</td>\n",
       "      <td>0.00000</td>\n",
       "      <td>0.0</td>\n",
       "    </tr>\n",
       "  </tbody>\n",
       "</table>\n",
       "</div>"
      ],
      "text/plain": [
       "    asset      free      pair  reference percentage_of_total\n",
       "0     BTC   0.00604   BTCUSDT  594.98446                51.0\n",
       "239   SOL   1.99800   SOLUSDT  391.67681                33.6\n",
       "11   USDT 176.26531  USDTUSDT  176.26531                15.1\n",
       "4     BNB   0.00275   BNBUSDT    1.87069                 0.2\n",
       "158  USDC   0.98628  USDCUSDT    0.98660                 0.1\n",
       "2     ETH   0.00010   ETHUSDT    0.34511                 0.0\n",
       "545  PEPE   0.16000  PEPEUSDT    0.00000                 0.0"
      ]
     },
     "execution_count": 84,
     "metadata": {},
     "output_type": "execute_result"
    }
   ],
   "source": [
    "df_account_crypto = pd.DataFrame(info['balances'])\n",
    "# Convert 'free' column to numeric\n",
    "df_account_crypto['free'] = pd.to_numeric(df_account_crypto['free'])\n",
    "# Filter rows where 'free' > 0\n",
    "df_account_crypto = df_account_crypto[df_account_crypto['free'] > 0]\n",
    "# Remove the 'locked' column\n",
    "df_account_crypto = df_account_crypto.drop(columns=['locked'])\n",
    "# Supprimer les lignes où 'asset' est 'ETHW' ou 'LDUSDC'\n",
    "df_account_crypto = df_account_crypto[~df_account_crypto['asset'].isin(['ETHW', 'LDUSDC'])]\n",
    "reference = 'USDT'\n",
    "df_account_crypto[\"pair\"] = df_account_crypto[\"asset\"] + reference \n",
    "\n",
    "# Fonction personnalisée pour appliquer les formules\n",
    "def apply_formula(row):\n",
    "    if row['asset'] == 'USDT':\n",
    "        return row['free'] * 1\n",
    "    else:\n",
    "        return row['free'] * float(client.get_avg_price(symbol=row['pair'])['price'])\n",
    "\n",
    "# Appliquer la fonction pour créer la nouvelle colonne 'value_in_usdt'\n",
    "df_account_crypto['reference'] = df_account_crypto.apply(apply_formula, axis=1)\n",
    "\n",
    "# Sort\n",
    "df_account_crypto = df_account_crypto.sort_values(by='reference', ascending=False)\n",
    "# Calcul du pourcentage de chaque ligne par rapport au total de la colonne 'reference'\n",
    "total_reference = df_account_crypto['reference'].sum()\n",
    "df_account_crypto['percentage_of_total'] = (df_account_crypto['reference'] / total_reference) * 100\n",
    "\n",
    "# Désactiver la notation scientifique pour l'affichage\n",
    "df_account_crypto['percentage_of_total'] = df_account_crypto['percentage_of_total'].apply(lambda x: '{:.1f}'.format(x))\n",
    "\n",
    "df_account_crypto"
   ]
  },
  {
   "cell_type": "code",
   "execution_count": 88,
   "metadata": {},
   "outputs": [
    {
     "data": {
      "image/png": "[encoded data removed]",
      "text/plain": [
       "<Figure size 800x800 with 1 Axes>"
      ]
     },
     "metadata": {},
     "output_type": "display_data"
    }
   ],
   "source": [
    "# Filtrer les actifs dont la valeur est inférieure à 1%\n",
    "df_account_crypto['percentage_of_total'] = df_account_crypto['percentage_of_total'].astype(float)\n",
    "filtered_df = df_account_crypto[df_account_crypto['percentage_of_total'] >= 1]\n",
    "\n",
    "# Créer un pie chart pour les actifs filtrés\n",
    "plt.figure(figsize=(8, 8))  # Taille du graphique\n",
    "plt.pie(filtered_df['percentage_of_total'], labels=filtered_df['asset'], autopct='%1.1f%%', startangle=90)\n",
    "\n",
    "# Ajouter un titre\n",
    "plt.title('Répartition des actifs en pourcentage du total')\n",
    "\n",
    "# Afficher la légende uniquement pour les actifs avec un pourcentage >= 1%\n",
    "plt.legend(filtered_df['asset'], title='Actifs', loc='center left', bbox_to_anchor=(1, 0.5))\n",
    "\n",
    "# Afficher le graphique\n",
    "plt.axis('equal')  # Assure que le pie chart est un cercle\n",
    "plt.show()"
   ]
  },
  {
   "cell_type": "code",
   "execution_count": 96,
   "metadata": {},
   "outputs": [
    {
     "name": "stdout",
     "output_type": "stream",
     "text": [
      "{'totalAmountInBTC': '0.01018426', 'totalAmountInUSDT': '1001.63443897', 'totalFlexibleAmountInBTC': '0.01018426', 'totalFlexibleAmountInUSDT': '1001.63443897', 'totalLockedInBTC': '0', 'totalLockedInUSDT': '0'}\n"
     ]
    }
   ],
   "source": [
    "# Binance Earn \n",
    "savings_data = client.get_simple_earn_account()\n",
    "print(savings_data)"
   ]
  }
 ],
 "metadata": {
  "kernelspec": {
   "display_name": "venv",
   "language": "python",
   "name": "python3"
  },
  "language_info": {
   "codemirror_mode": {
    "name": "ipython",
    "version": 3
   },
   "file_extension": ".py",
   "mimetype": "text/x-python",
   "name": "python",
   "nbconvert_exporter": "python",
   "pygments_lexer": "ipython3",
   "version": "3.11.5"
  }
 },
 "nbformat": 4,
 "nbformat_minor": 2
}
