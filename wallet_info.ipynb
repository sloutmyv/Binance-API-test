{
 "cells": [
  {
   "cell_type": "markdown",
   "metadata": {},
   "source": [
    "# Objectifs : \n",
    "1. Accéder au information du compte binance (fees taker/maker)\n",
    "2. Accéder à la composition du portefeuille spot et tracer un pie chart de cette composition\n",
    "3. Accéder au total en $ du portefeuille (earn / spot )"
   ]
  },
  {
   "cell_type": "code",
   "execution_count": 5,
   "metadata": {},
   "outputs": [],
   "source": [
    "# Libraries \n",
    "from binance.client import Client\n",
    "from datetime import datetime, timezone\n",
    "import matplotlib.pyplot as plt\n",
    "import pandas as pd"
   ]
  },
  {
   "cell_type": "code",
   "execution_count": 6,
   "metadata": {},
   "outputs": [],
   "source": [
    "# Connect to binance API\n",
    "INPUT_FILE= \"API_KEYS.txt\"\n",
    "\n",
    "with open(INPUT_FILE, 'r', encoding='utf-8') as file:\n",
    "    contenu_liste = file.read()\n",
    "\n",
    "KEYS = contenu_liste.split(',')\n",
    "KEYS = [element.strip() for element in KEYS]\n",
    "\n",
    "api_key = KEYS[0]\n",
    "api_secret = KEYS[1]\n",
    "client = Client(api_key,api_secret)"
   ]
  },
  {
   "cell_type": "code",
   "execution_count": 7,
   "metadata": {},
   "outputs": [
    {
     "name": "stdout",
     "output_type": "stream",
     "text": [
      "Binance account : SCL\n",
      "Date            : 2024-12-27 03:07:37\n",
      "Maker Rate      : 0.001     \n",
      "Taker Rate      : 0.001     \n"
     ]
    }
   ],
   "source": [
    "info = client.get_account()\n",
    "\n",
    "# Commission Rates\n",
    "maker_rate = float(info['commissionRates']['maker'])\n",
    "taker_rate = float(info['commissionRates']['taker'])\n",
    "\n",
    "# Convert to seconds (Python's datetime uses seconds)\n",
    "date_sec = info['updateTime'] / 1000 \n",
    "\n",
    "# Format the timestamp into a readable date\n",
    "formatted_date = datetime.fromtimestamp(date_sec, tz=timezone.utc).strftime('%Y-%m-%d %H:%M:%S')\n",
    "\n",
    "# Impression avec alignement\n",
    "output = (\n",
    "    f\"{'Binance account':<15} : SCL\\n\"\n",
    "    f\"{'Date':<15} : {formatted_date:<10}\\n\"\n",
    "    f\"{'Maker Rate':<15} : {maker_rate:<10.3f}\\n\"\n",
    "    f\"{'Taker Rate':<15} : {taker_rate:<10.3f}\"\n",
    ")\n",
    "\n",
    "print(output)"
   ]
  },
  {
   "cell_type": "code",
   "execution_count": 8,
   "metadata": {},
   "outputs": [
    {
     "data": {
      "text/html": [
       "<div>\n",
       "<style scoped>\n",
       "    .dataframe tbody tr th:only-of-type {\n",
       "        vertical-align: middle;\n",
       "    }\n",
       "\n",
       "    .dataframe tbody tr th {\n",
       "        vertical-align: top;\n",
       "    }\n",
       "\n",
       "    .dataframe thead th {\n",
       "        text-align: right;\n",
       "    }\n",
       "</style>\n",
       "<table border=\"1\" class=\"dataframe\">\n",
       "  <thead>\n",
       "    <tr style=\"text-align: right;\">\n",
       "      <th></th>\n",
       "      <th>asset</th>\n",
       "      <th>free</th>\n",
       "      <th>pair</th>\n",
       "      <th>reference</th>\n",
       "      <th>percentage_of_total</th>\n",
       "    </tr>\n",
       "  </thead>\n",
       "  <tbody>\n",
       "    <tr>\n",
       "      <th>0</th>\n",
       "      <td>BTC</td>\n",
       "      <td>0.006044</td>\n",
       "      <td>BTCUSDT</td>\n",
       "      <td>571.120214</td>\n",
       "      <td>50.9</td>\n",
       "    </tr>\n",
       "    <tr>\n",
       "      <th>239</th>\n",
       "      <td>SOL</td>\n",
       "      <td>1.998000</td>\n",
       "      <td>SOLUSDT</td>\n",
       "      <td>369.706057</td>\n",
       "      <td>33.0</td>\n",
       "    </tr>\n",
       "    <tr>\n",
       "      <th>11</th>\n",
       "      <td>USDT</td>\n",
       "      <td>176.265309</td>\n",
       "      <td>USDTUSDT</td>\n",
       "      <td>176.265309</td>\n",
       "      <td>15.7</td>\n",
       "    </tr>\n",
       "    <tr>\n",
       "      <th>4</th>\n",
       "      <td>BNB</td>\n",
       "      <td>0.004669</td>\n",
       "      <td>BNBUSDT</td>\n",
       "      <td>3.225413</td>\n",
       "      <td>0.3</td>\n",
       "    </tr>\n",
       "    <tr>\n",
       "      <th>158</th>\n",
       "      <td>USDC</td>\n",
       "      <td>0.739710</td>\n",
       "      <td>USDCUSDT</td>\n",
       "      <td>0.740791</td>\n",
       "      <td>0.1</td>\n",
       "    </tr>\n",
       "    <tr>\n",
       "      <th>545</th>\n",
       "      <td>PEPE</td>\n",
       "      <td>0.160000</td>\n",
       "      <td>PEPEUSDT</td>\n",
       "      <td>0.000003</td>\n",
       "      <td>0.0</td>\n",
       "    </tr>\n",
       "  </tbody>\n",
       "</table>\n",
       "</div>"
      ],
      "text/plain": [
       "    asset        free      pair   reference percentage_of_total\n",
       "0     BTC    0.006044   BTCUSDT  571.120214                50.9\n",
       "239   SOL    1.998000   SOLUSDT  369.706057                33.0\n",
       "11   USDT  176.265309  USDTUSDT  176.265309                15.7\n",
       "4     BNB    0.004669   BNBUSDT    3.225413                 0.3\n",
       "158  USDC    0.739710  USDCUSDT    0.740791                 0.1\n",
       "545  PEPE    0.160000  PEPEUSDT    0.000003                 0.0"
      ]
     },
     "execution_count": 8,
     "metadata": {},
     "output_type": "execute_result"
    }
   ],
   "source": [
    "# Accéder à la composition du portefeuille binance \n",
    "df_account_crypto = pd.DataFrame(info['balances'])\n",
    "\n",
    "# Convert 'free' column to numeric\n",
    "df_account_crypto['free'] = pd.to_numeric(df_account_crypto['free'])\n",
    "\n",
    "# Filter rows where 'free' > 0\n",
    "df_account_crypto = df_account_crypto[df_account_crypto['free'] > 0]\n",
    "\n",
    "# Remove the 'locked' column\n",
    "df_account_crypto = df_account_crypto.drop(columns=['locked'])\n",
    "\n",
    "# Supprimer les lignes où 'asset' est 'ETHW' ou 'LDUSDC'\n",
    "df_account_crypto = df_account_crypto[~df_account_crypto['asset'].isin(['ETHW', 'LDUSDC'])]\n",
    "\n",
    "REFERENCE = 'USDT'\n",
    "df_account_crypto[\"pair\"] = df_account_crypto[\"asset\"] + REFERENCE \n",
    "\n",
    "# Fonction personnalisée pour appliquer les formules\n",
    "def apply_formula(row):\n",
    "    if row['asset'] == REFERENCE:\n",
    "        return row['free'] * 1\n",
    "    else:\n",
    "        return row['free'] * float(client.get_avg_price(symbol=row['pair'])['price'])\n",
    "\n",
    "# Appliquer la fonction pour créer la nouvelle colonne 'value_in_usdt'\n",
    "df_account_crypto['reference'] = df_account_crypto.apply(apply_formula, axis=1)\n",
    "\n",
    "# Sort\n",
    "df_account_crypto = df_account_crypto.sort_values(by='reference', ascending=False)\n",
    "# Calcul du pourcentage de chaque ligne par rapport au total de la colonne 'reference'\n",
    "total_reference = df_account_crypto['reference'].sum()\n",
    "df_account_crypto['percentage_of_total'] = (df_account_crypto['reference'] / total_reference) * 100\n",
    "\n",
    "# Désactiver la notation scientifique pour l'affichage\n",
    "df_account_crypto['percentage_of_total'] = df_account_crypto['percentage_of_total'].apply(lambda x: '{:.1f}'.format(x))\n",
    "\n",
    "df_account_crypto"
   ]
  },
  {
   "cell_type": "code",
   "execution_count": 9,
   "metadata": {},
   "outputs": [
    {
     "data": {
      "image/png": "[encoded data removed]",
      "text/plain": [
       "<Figure size 800x800 with 1 Axes>"
      ]
     },
     "metadata": {},
     "output_type": "display_data"
    }
   ],
   "source": [
    "# Filtrer les actifs dont la valeur est inférieure à 1%\n",
    "df_account_crypto['percentage_of_total'] = df_account_crypto['percentage_of_total'].astype(float)\n",
    "filtered_df = df_account_crypto[df_account_crypto['percentage_of_total'] >= 1]\n",
    "\n",
    "# Créer un pie chart pour les actifs filtrés\n",
    "plt.figure(figsize=(8, 8))  # Taille du graphique\n",
    "plt.pie(filtered_df['percentage_of_total'], labels=filtered_df['asset'], autopct='%1.1f%%', startangle=90)\n",
    "\n",
    "# Ajouter un titre\n",
    "plt.title('Répartition des actifs en pourcentage du total')\n",
    "\n",
    "# Afficher la légende uniquement pour les actifs avec un pourcentage >= 1%\n",
    "plt.legend(filtered_df['asset'], title='Actifs', loc='center left', bbox_to_anchor=(1, 0.5))\n",
    "\n",
    "# Afficher le graphique\n",
    "plt.axis('equal')  # Assure que le pie chart est un cercle\n",
    "plt.show()"
   ]
  },
  {
   "cell_type": "code",
   "execution_count": 18,
   "metadata": {},
   "outputs": [
    {
     "name": "stdout",
     "output_type": "stream",
     "text": [
      "Binance Earn $  : 1003.43   \n",
      "Binance Spot $  : 1121.06   \n",
      "Binance Total $ : 2124.48   \n",
      "\n"
     ]
    }
   ],
   "source": [
    "# Binance Earn \n",
    "savings_data = client.get_simple_earn_account()\n",
    "\n",
    "# Impression avec alignement\n",
    "output = (\n",
    "    f\"{'Binance Earn $':<15} : {float(savings_data['totalAmountInUSDT']):<10.2f}\\n\"\n",
    "    f\"{'Binance Spot $':<15} : {df_account_crypto['reference'].sum():<10.2f}\\n\"\n",
    "    f\"{'Binance Total $':<15} : {df_account_crypto['reference'].sum() + float(savings_data['totalAmountInUSDT']):<10.2f}\\n\"\n",
    "    \n",
    ")\n",
    "\n",
    "print(output)"
   ]
  }
 ],
 "metadata": {
  "kernelspec": {
   "display_name": "venv",
   "language": "python",
   "name": "python3"
  },
  "language_info": {
   "codemirror_mode": {
    "name": "ipython",
    "version": 3
   },
   "file_extension": ".py",
   "mimetype": "text/x-python",
   "name": "python",
   "nbconvert_exporter": "python",
   "pygments_lexer": "ipython3",
   "version": "3.11.5"
  }
 },
 "nbformat": 4,
 "nbformat_minor": 2
}
